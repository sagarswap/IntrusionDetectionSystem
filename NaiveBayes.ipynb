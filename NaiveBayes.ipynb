{
 "cells": [
  {
   "cell_type": "code",
   "execution_count": 41,
   "metadata": {},
   "outputs": [],
   "source": [
    "import pandas as pd\n",
    "from sklearn.naive_bayes import GaussianNB\n",
    "from sklearn.model_selection import train_test_split\n",
    "import numpy as np"
   ]
  },
  {
   "cell_type": "code",
   "execution_count": 42,
   "metadata": {},
   "outputs": [],
   "source": [
    "df=pd.read_csv(\"./data/output/processed_data.csv\")\n",
    "train, test = train_test_split(df, test_size=0.2)"
   ]
  },
  {
   "cell_type": "code",
   "execution_count": 43,
   "metadata": {},
   "outputs": [],
   "source": [
    "train_Y=train['sus']\n",
    "test_Y=test['sus'].to_frame()\n",
    "train_X=train.drop(['sus', 'evil'], axis=1)\n",
    "test_X=test.drop(['sus', 'evil'], axis=1)"
   ]
  },
  {
   "cell_type": "code",
   "execution_count": 44,
   "metadata": {},
   "outputs": [
    {
     "name": "stdout",
     "output_type": "stream",
     "text": [
      "   sus\n",
      "0    0\n",
      "1    0\n",
      "2    0\n",
      "3    0\n",
      "4    1\n"
     ]
    }
   ],
   "source": [
    "test_Y=test_Y.reset_index(drop=True)\n",
    "print(test_Y.head(5))"
   ]
  },
  {
   "cell_type": "code",
   "execution_count": 45,
   "metadata": {},
   "outputs": [],
   "source": [
    "model=GaussianNB()\n",
    "model.fit(train_X, train_Y)\n",
    "predictions=model.predict(test_X)\n",
    "predictions=pd.DataFrame(predictions, columns=['anomaly'])\n",
    "test_Y['anomaly']=predictions['anomaly']"
   ]
  },
  {
   "cell_type": "code",
   "execution_count": 46,
   "metadata": {},
   "outputs": [
    {
     "name": "stdout",
     "output_type": "stream",
     "text": [
      "0.8998131378467731\n"
     ]
    }
   ],
   "source": [
    "tp = test_Y[(test_Y['sus'] == 1) & (test_Y['anomaly'] == -1)]\n",
    "tn = test_Y[(test_Y['sus'] == 0) & (test_Y['anomaly'] == 1)]\n",
    "fp = test_Y[(test_Y['sus'] == 0) & (test_Y['anomaly'] == -1)]\n",
    "fn = test_Y[(test_Y['sus'] == 1) & (test_Y['anomaly'] == 1)]\n",
    "\n",
    "tp_r, tp_c=tp.shape\n",
    "tn_r, tn_c=tn.shape\n",
    "fp_r, fp_c=fp.shape\n",
    "fn_r, fn_c=fn.shape\n",
    "accuracy=(tp_r+tn_r)*100/(tp_r+tn_r+fp_r+fn_r)\n",
    "print(accuracy)"
   ]
  }
 ],
 "metadata": {
  "kernelspec": {
   "display_name": "Python 3",
   "language": "python",
   "name": "python3"
  },
  "language_info": {
   "codemirror_mode": {
    "name": "ipython",
    "version": 3
   },
   "file_extension": ".py",
   "mimetype": "text/x-python",
   "name": "python",
   "nbconvert_exporter": "python",
   "pygments_lexer": "ipython3",
   "version": "3.10.4"
  }
 },
 "nbformat": 4,
 "nbformat_minor": 2
}
