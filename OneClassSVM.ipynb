{
 "cells": [
  {
   "cell_type": "code",
   "execution_count": 1,
   "metadata": {},
   "outputs": [],
   "source": [
    "import pandas as pd\n",
    "from sklearn.svm import OneClassSVM"
   ]
  },
  {
   "cell_type": "code",
   "execution_count": 2,
   "metadata": {},
   "outputs": [],
   "source": [
    "df=pd.read_csv(\"./data/output/processed_data2.csv\")"
   ]
  },
  {
   "cell_type": "code",
   "execution_count": 3,
   "metadata": {},
   "outputs": [],
   "source": [
    "df2=df.drop(['sus', 'evil'], axis=1)\n",
    "model=OneClassSVM(kernel='rbf', gamma=0.001, nu=0.03)\n",
    "model.fit(df2)\n",
    "df['anomaly']=model.predict(df2)"
   ]
  },
  {
   "cell_type": "code",
   "execution_count": null,
   "metadata": {},
   "outputs": [],
   "source": [
    "tp = df[(df['evil'] == 1) & (df['anomaly'] == -1)]\n",
    "tn = df[(df['evil'] == 0) & (df['anomaly'] == 1)]\n",
    "fp = df[(df['evil'] == 0) & (df['anomaly'] == -1)]\n",
    "fn = df[(df['evil'] == 1) & (df['anomaly'] == 1)]"
   ]
  },
  {
   "cell_type": "code",
   "execution_count": null,
   "metadata": {},
   "outputs": [],
   "source": [
    "tp_r, tp_c=tp.shape\n",
    "tn_r, tn_c=tn.shape\n",
    "fp_r, fp_c=fp.shape\n",
    "fn_r, fn_c=fn.shape\n",
    "accuracy=(tp_r+tn_r)*100/(tp_r+tn_r+fp_r+fn_r)\n",
    "print(accuracy)"
   ]
  }
 ],
 "metadata": {
  "kernelspec": {
   "display_name": "Python 3",
   "language": "python",
   "name": "python3"
  },
  "language_info": {
   "codemirror_mode": {
    "name": "ipython",
    "version": 3
   },
   "file_extension": ".py",
   "mimetype": "text/x-python",
   "name": "python",
   "nbconvert_exporter": "python",
   "pygments_lexer": "ipython3",
   "version": "3.10.4"
  }
 },
 "nbformat": 4,
 "nbformat_minor": 2
}
